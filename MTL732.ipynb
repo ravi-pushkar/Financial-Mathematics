{
  "nbformat": 4,
  "nbformat_minor": 0,
  "metadata": {
    "colab": {
      "provenance": [],
      "collapsed_sections": [
        "D288TpzaeLzA"
      ]
    },
    "kernelspec": {
      "name": "python3",
      "display_name": "Python 3"
    },
    "language_info": {
      "name": "python"
    }
  },
  "cells": [
    {
      "cell_type": "markdown",
      "source": [
        "# MTL732 \n",
        "# Ravi Pushkar (2018MT60790) || Satendra Singh Parasher (2018MT60793)"
      ],
      "metadata": {
        "id": "IiCYpyo9d0Kw"
      }
    },
    {
      "cell_type": "markdown",
      "source": [
        "## Download and Install Pinguin"
      ],
      "metadata": {
        "id": "D288TpzaeLzA"
      }
    },
    {
      "cell_type": "code",
      "source": [
        "pip install pingouin"
      ],
      "metadata": {
        "colab": {
          "base_uri": "https://localhost:8080/"
        },
        "id": "my304fZwTQBp",
        "outputId": "82978afa-a894-4c10-a9b1-1cda6ed5cccb"
      },
      "execution_count": 89,
      "outputs": [
        {
          "output_type": "stream",
          "name": "stdout",
          "text": [
            "Looking in indexes: https://pypi.org/simple, https://us-python.pkg.dev/colab-wheels/public/simple/\n",
            "Requirement already satisfied: pingouin in /usr/local/lib/python3.7/dist-packages (0.5.2)\n",
            "Requirement already satisfied: scikit-learn<1.1.0 in /usr/local/lib/python3.7/dist-packages (from pingouin) (1.0.2)\n",
            "Requirement already satisfied: outdated in /usr/local/lib/python3.7/dist-packages (from pingouin) (0.2.2)\n",
            "Requirement already satisfied: tabulate in /usr/local/lib/python3.7/dist-packages (from pingouin) (0.8.10)\n",
            "Requirement already satisfied: matplotlib>=3.0.2 in /usr/local/lib/python3.7/dist-packages (from pingouin) (3.2.2)\n",
            "Requirement already satisfied: statsmodels>=0.13 in /usr/local/lib/python3.7/dist-packages (from pingouin) (0.13.5)\n",
            "Requirement already satisfied: pandas>=1.0 in /usr/local/lib/python3.7/dist-packages (from pingouin) (1.3.5)\n",
            "Requirement already satisfied: seaborn>=0.11 in /usr/local/lib/python3.7/dist-packages (from pingouin) (0.11.2)\n",
            "Requirement already satisfied: numpy>=1.19 in /usr/local/lib/python3.7/dist-packages (from pingouin) (1.21.6)\n",
            "Requirement already satisfied: pandas-flavor>=0.2.0 in /usr/local/lib/python3.7/dist-packages (from pingouin) (0.2.0)\n",
            "Requirement already satisfied: scipy>=1.7 in /usr/local/lib/python3.7/dist-packages (from pingouin) (1.7.3)\n",
            "Requirement already satisfied: pyparsing!=2.0.4,!=2.1.2,!=2.1.6,>=2.0.1 in /usr/local/lib/python3.7/dist-packages (from matplotlib>=3.0.2->pingouin) (3.0.9)\n",
            "Requirement already satisfied: python-dateutil>=2.1 in /usr/local/lib/python3.7/dist-packages (from matplotlib>=3.0.2->pingouin) (2.8.2)\n",
            "Requirement already satisfied: cycler>=0.10 in /usr/local/lib/python3.7/dist-packages (from matplotlib>=3.0.2->pingouin) (0.11.0)\n",
            "Requirement already satisfied: kiwisolver>=1.0.1 in /usr/local/lib/python3.7/dist-packages (from matplotlib>=3.0.2->pingouin) (1.4.4)\n",
            "Requirement already satisfied: typing-extensions in /usr/local/lib/python3.7/dist-packages (from kiwisolver>=1.0.1->matplotlib>=3.0.2->pingouin) (4.1.1)\n",
            "Requirement already satisfied: pytz>=2017.3 in /usr/local/lib/python3.7/dist-packages (from pandas>=1.0->pingouin) (2022.5)\n",
            "Requirement already satisfied: xarray in /usr/local/lib/python3.7/dist-packages (from pandas-flavor>=0.2.0->pingouin) (0.20.2)\n",
            "Requirement already satisfied: six>=1.5 in /usr/local/lib/python3.7/dist-packages (from python-dateutil>=2.1->matplotlib>=3.0.2->pingouin) (1.15.0)\n",
            "Requirement already satisfied: threadpoolctl>=2.0.0 in /usr/local/lib/python3.7/dist-packages (from scikit-learn<1.1.0->pingouin) (3.1.0)\n",
            "Requirement already satisfied: joblib>=0.11 in /usr/local/lib/python3.7/dist-packages (from scikit-learn<1.1.0->pingouin) (1.2.0)\n",
            "Requirement already satisfied: patsy>=0.5.2 in /usr/local/lib/python3.7/dist-packages (from statsmodels>=0.13->pingouin) (0.5.3)\n",
            "Requirement already satisfied: packaging>=21.3 in /usr/local/lib/python3.7/dist-packages (from statsmodels>=0.13->pingouin) (21.3)\n",
            "Requirement already satisfied: requests in /usr/local/lib/python3.7/dist-packages (from outdated->pingouin) (2.23.0)\n",
            "Requirement already satisfied: littleutils in /usr/local/lib/python3.7/dist-packages (from outdated->pingouin) (0.2.2)\n",
            "Requirement already satisfied: setuptools>=44 in /usr/local/lib/python3.7/dist-packages (from outdated->pingouin) (57.4.0)\n",
            "Requirement already satisfied: chardet<4,>=3.0.2 in /usr/local/lib/python3.7/dist-packages (from requests->outdated->pingouin) (3.0.4)\n",
            "Requirement already satisfied: certifi>=2017.4.17 in /usr/local/lib/python3.7/dist-packages (from requests->outdated->pingouin) (2022.9.24)\n",
            "Requirement already satisfied: idna<3,>=2.5 in /usr/local/lib/python3.7/dist-packages (from requests->outdated->pingouin) (2.10)\n",
            "Requirement already satisfied: urllib3!=1.25.0,!=1.25.1,<1.26,>=1.21.1 in /usr/local/lib/python3.7/dist-packages (from requests->outdated->pingouin) (1.24.3)\n",
            "Requirement already satisfied: importlib-metadata in /usr/local/lib/python3.7/dist-packages (from xarray->pandas-flavor>=0.2.0->pingouin) (4.13.0)\n",
            "Requirement already satisfied: zipp>=0.5 in /usr/local/lib/python3.7/dist-packages (from importlib-metadata->xarray->pandas-flavor>=0.2.0->pingouin) (3.10.0)\n"
          ]
        }
      ]
    },
    {
      "cell_type": "markdown",
      "source": [
        "## Importing Libraries"
      ],
      "metadata": {
        "id": "TzeXvSqKeTaS"
      }
    },
    {
      "cell_type": "code",
      "execution_count": 243,
      "metadata": {
        "id": "f-uKaEGR751j"
      },
      "outputs": [],
      "source": [
        "import os\n",
        "import csv\n",
        "import glob\n",
        "import numpy as np\n",
        "import pandas as pd\n",
        "import cvxpy as cp\n",
        "import pingouin as pg\n",
        "from scipy.stats import norm\n",
        "from numpy.linalg import matrix_power\n",
        "# from numpy.linalg import norm\n",
        "from scipy.linalg import fractional_matrix_power\n",
        "from pingouin import multivariate_normality"
      ]
    },
    {
      "cell_type": "markdown",
      "source": [
        "## Mounting the drive and getting the data set\n"
      ],
      "metadata": {
        "id": "uNIUV1yBeqok"
      }
    },
    {
      "cell_type": "code",
      "source": [
        "from google.colab import drive\n",
        "drive.mount('/content/drive')"
      ],
      "metadata": {
        "id": "X2_4W-ObU_id",
        "colab": {
          "base_uri": "https://localhost:8080/"
        },
        "outputId": "19909a81-dbf5-4aba-b88b-b1f8705c16b2"
      },
      "execution_count": 244,
      "outputs": [
        {
          "output_type": "stream",
          "name": "stdout",
          "text": [
            "Drive already mounted at /content/drive; to attempt to forcibly remount, call drive.mount(\"/content/drive\", force_remount=True).\n"
          ]
        }
      ]
    },
    {
      "cell_type": "code",
      "source": [
        "path1 = \"/content/sample_data/MTL732_IND\"\n",
        "csv_files = glob.glob(os.path.join(path1, \"*.csv\"))"
      ],
      "metadata": {
        "id": "KtYsHJ7Wydbl"
      },
      "execution_count": 242,
      "outputs": []
    },
    {
      "cell_type": "markdown",
      "source": [
        "## Calculating the Mean AND variance covariance, and checking if the data is multivariate\n"
      ],
      "metadata": {
        "id": "OmMikBccwiLe"
      }
    },
    {
      "cell_type": "code",
      "source": [
        "class my_dictionary(dict): \n",
        "  \n",
        "    # __init__ function \n",
        "    def __init__(self): \n",
        "        self = dict() \n",
        "          \n",
        "    # Function to add key:value \n",
        "    def add(self, key, value): \n",
        "        self[key] = value \n",
        "  \n",
        "\n",
        "dictionary = my_dictionary() \n",
        "count = 20\n",
        "for f in csv_files:\n",
        "\n",
        "    if(count == 0):\n",
        "      break\n",
        "    file_name = os.path.basename(f)\n",
        "    key = os.path.splitext(file_name)[0]\n",
        "    df = pd.read_csv(f)\n",
        "    dictionary.add(key, (df[\"Close\"]-df[\"Open\"])/df[\"Open\"])\n",
        "    count -= 1\n",
        "    \n",
        "data = pd.DataFrame.from_dict(dictionary)\n",
        "print(multivariate_normality(data , alpha = 0.1))\n",
        "\n",
        "df1 = data.dropna()\n",
        "\n",
        "Mean = []\n",
        "\n",
        "security_count = 0\n",
        "for col in df1:\n",
        "  security_count += 1\n",
        "  Mean.append(df1[col].mean())\n",
        "\n",
        "mean_vector = np.array(Mean)\n",
        "mean_vector = mean_vector.reshape((security_count, 1))\n",
        "var_cov = df1.cov()\n",
        "\n",
        "# Mean = df1.mean()\n",
        "# print(Mean.shape)\n",
        "# print(Mean)\n",
        "# print(var_cov)\n",
        "\n",
        "mean_vector.shape, var_cov.shape"
      ],
      "metadata": {
        "colab": {
          "base_uri": "https://localhost:8080/"
        },
        "id": "H1Aom72oSpn3",
        "outputId": "959a45e9-078c-455e-8dce-8ef1d9c1bff5"
      },
      "execution_count": 257,
      "outputs": [
        {
          "output_type": "stream",
          "name": "stdout",
          "text": [
            "HZResults(hz=1.1319124916377437, pval=0.0, normal=False)\n"
          ]
        },
        {
          "output_type": "execute_result",
          "data": {
            "text/plain": [
              "((20, 1), (20, 20))"
            ]
          },
          "metadata": {},
          "execution_count": 257
        }
      ]
    },
    {
      "cell_type": "markdown",
      "source": [
        "## Optimisation Problem\n"
      ],
      "metadata": {
        "id": "ZkDl1AN9extx"
      }
    },
    {
      "cell_type": "code",
      "source": [
        "x = cp.Variable((security_count,1))"
      ],
      "metadata": {
        "id": "bj2NhIIxUfCe"
      },
      "execution_count": 258,
      "outputs": []
    },
    {
      "cell_type": "code",
      "source": [
        "alfa = 0.90\n",
        "ninv_alpha = norm.ppf(alfa)\n",
        "ninv_alpha"
      ],
      "metadata": {
        "colab": {
          "base_uri": "https://localhost:8080/"
        },
        "id": "PuG-vv5LjXuT",
        "outputId": "cd2a5a85-f826-40d5-f29c-f3bfd83adc9b"
      },
      "execution_count": 259,
      "outputs": [
        {
          "output_type": "execute_result",
          "data": {
            "text/plain": [
              "1.2815515655446004"
            ]
          },
          "metadata": {},
          "execution_count": 259
        }
      ]
    },
    {
      "cell_type": "code",
      "source": [
        "cov_var_power_half = fractional_matrix_power(var_cov,1/2)\n",
        "# cov_var_power_half\n",
        "cov_var_power_half.shape\n",
        "assert(np.linalg.norm(cov_var_power_half @ cov_var_power_half - var_cov)< 1e-8)\n",
        "\n",
        "# cv_power_half\n",
        "# cov_var_power_half.shape"
      ],
      "metadata": {
        "id": "3eO0CH7Ok89h"
      },
      "execution_count": 261,
      "outputs": []
    },
    {
      "cell_type": "code",
      "source": [
        "d = 0.019\n",
        "constraint_1 = ninv_alpha * cp.norm(cov_var_power_half @ x) - mean_vector.T @ x<=d\n",
        "constraint_2 = x >= 0\n",
        "constraint_3 = cp.sum(x) == 1\n"
      ],
      "metadata": {
        "id": "0ftFwLPDnXbq"
      },
      "execution_count": 262,
      "outputs": []
    },
    {
      "cell_type": "code",
      "source": [
        "constraints = [constraint_1, constraint_2, constraint_3]\n",
        "obj=cp.Maximize(mean_vector.T @ x)\n",
        "problem = cp.Problem(obj, constraints)\n",
        "problem.solve()\n",
        "print(problem.status)\n",
        "print(x.value.T)"
      ],
      "metadata": {
        "colab": {
          "base_uri": "https://localhost:8080/"
        },
        "id": "qbUnRiw_fGy6",
        "outputId": "7a24174e-4d93-414d-cf82-0bbb1bbab3db"
      },
      "execution_count": 263,
      "outputs": [
        {
          "output_type": "stream",
          "name": "stdout",
          "text": [
            "optimal\n",
            "[[4.48078001e-11 3.30744372e-11 4.06553572e-11 5.74718625e-11\n",
            "  2.94255094e-11 4.82028658e-11 5.02243538e-11 2.41435934e-11\n",
            "  5.21451607e-11 8.54601422e-11 3.63053350e-11 9.99999999e-01\n",
            "  2.16695289e-11 4.87314795e-11 5.15732710e-11 2.11237499e-11\n",
            "  4.51815549e-11 3.91116610e-11 4.57573672e-11 5.59312764e-11]]\n"
          ]
        }
      ]
    },
    {
      "cell_type": "code",
      "source": [
        "def find_optimal(mu, sigma, alpha, d):\n",
        "  count = len(mu)\n",
        "  w = cp.Variable(count)\n",
        "  ninv_alpha = norm.ppf(alpha)\n",
        "  # ninv_alpha\n",
        "  constraint_1 = ninv_alpha * cp.norm(sigma @ w) - mu.T @ w <= d\n",
        "  constraint_2 = w >= 0\n",
        "  constraint_3 = cp.sum(w) == 1\n",
        "  constraints = [constraint_1, constraint_2, constraint_3]\n",
        "  obj=cp.Maximize(mean_vector.T @ w)\n",
        "  problem = cp.Problem(obj, constraints)\n",
        "  problem.solve()\n",
        "  return w.value.T, w.value.T @ mu"
      ],
      "metadata": {
        "id": "VwwDHv8xYQKZ"
      },
      "execution_count": 268,
      "outputs": []
    },
    {
      "cell_type": "code",
      "source": [
        "find_optimal(mean_vector, cov_var_power_half, alfa, d)"
      ],
      "metadata": {
        "colab": {
          "base_uri": "https://localhost:8080/"
        },
        "id": "-QazKjrFalkg",
        "outputId": "20f314a0-a4b1-45a9-c895-2b7556ebbb05"
      },
      "execution_count": 269,
      "outputs": [
        {
          "output_type": "execute_result",
          "data": {
            "text/plain": [
              "(array([4.48078001e-11, 3.30744372e-11, 4.06553572e-11, 5.74718625e-11,\n",
              "        2.94255094e-11, 4.82028658e-11, 5.02243538e-11, 2.41435934e-11,\n",
              "        5.21451607e-11, 8.54601422e-11, 3.63053350e-11, 9.99999999e-01,\n",
              "        2.16695289e-11, 4.87314795e-11, 5.15732710e-11, 2.11237499e-11,\n",
              "        4.51815549e-11, 3.91116610e-11, 4.57573672e-11, 5.59312764e-11]),\n",
              " array([0.00030895]))"
            ]
          },
          "metadata": {},
          "execution_count": 269
        }
      ]
    }
  ]
}